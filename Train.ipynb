{
 "cells": [
  {
   "cell_type": "markdown",
   "metadata": {},
   "source": [
    "# Train Agents for Tennis Environment\n",
    "\n",
    "---\n",
    "\n",
    "In this notebook, we'll train agents using DDPG algorithm.\n",
    "We begin by importing some necessary packages and starting the environment.\n",
    "If the code cell below returns an error, please revisit installation instructions given in the README.md."
   ]
  },
  {
   "cell_type": "code",
   "execution_count": 1,
   "metadata": {},
   "outputs": [
    {
     "name": "stderr",
     "output_type": "stream",
     "text": [
      "INFO:unityagents:\n",
      "'Academy' started successfully!\n",
      "Unity Academy name: Academy\n",
      "        Number of Brains: 1\n",
      "        Number of External Brains : 1\n",
      "        Lesson number : 0\n",
      "        Reset Parameters :\n",
      "\t\t\n",
      "Unity brain name: TennisBrain\n",
      "        Number of Visual Observations (per agent): 0\n",
      "        Vector Observation space type: continuous\n",
      "        Vector Observation space size (per agent): 8\n",
      "        Number of stacked Vector Observation: 3\n",
      "        Vector Action space type: continuous\n",
      "        Vector Action space size (per agent): 2\n",
      "        Vector Action descriptions: , \n"
     ]
    },
    {
     "name": "stdout",
     "output_type": "stream",
     "text": [
      "Number of agents: 2\n",
      "Size of each action: 2\n",
      "There are 2 agents. Each observes a state with length: 24\n",
      "The state for the first agent looks like: [ 0.          0.          0.          0.          0.          0.\n",
      "  0.          0.          0.          0.          0.          0.\n",
      "  0.          0.          0.          0.         -6.63803244 -1.5\n",
      " -0.          0.          6.00063038  6.         -0.          0.        ]\n"
     ]
    }
   ],
   "source": [
    "from unityagents import UnityEnvironment\n",
    "import numpy as np\n",
    "import torch\n",
    "from collections import deque\n",
    "import matplotlib.pyplot as plt\n",
    "%matplotlib inline\n",
    "%load_ext autoreload\n",
    "%autoreload 2\n",
    "\n",
    "env = UnityEnvironment(file_name='Tennis_Windows_x86_64/Tennis.exe', no_graphics=True, seed=1)\n",
    "\n",
    "# get the default brain\n",
    "brain_name = env.brain_names[0]\n",
    "brain = env.brains[brain_name]\n",
    "\n",
    "# reset the environment\n",
    "env_info = env.reset(train_mode=True)[brain_name]\n",
    "\n",
    "# number of agents\n",
    "num_agents = len(env_info.agents)\n",
    "print('Number of agents:', num_agents)\n",
    "\n",
    "# size of each action\n",
    "action_size = brain.vector_action_space_size\n",
    "print('Size of each action:', action_size)\n",
    "\n",
    "# examine the state space \n",
    "states = env_info.vector_observations\n",
    "state_size = states.shape[1]\n",
    "print('There are {} agents. Each observes a state with length: {}'.format(states.shape[0], state_size))\n",
    "print('The state for the first agent looks like:', states[0])"
   ]
  },
  {
   "cell_type": "markdown",
   "metadata": {},
   "source": [
    "### 2. Train\n",
    "\n",
    "In the next code cell, we define training procedure."
   ]
  },
  {
   "cell_type": "code",
   "execution_count": 2,
   "metadata": {},
   "outputs": [],
   "source": [
    "def train(env, brain_name, agent, critic, memory, max_episodes=3000, max_steps=1000, target_avg_score=0.5, avg_window=100, update_every=2, update_cycles=1, noise_decay=.9999, noise_min=0.5, print_every=100):\n",
    "    scores_deque = deque(maxlen=avg_window)\n",
    "    scores = []\n",
    "    noise = 1\n",
    "    \n",
    "    for i_episode in range(1, max_episodes + 1):\n",
    "        env_info = env.reset(train_mode=True)[brain_name]\n",
    "        states = env_info.vector_observations\n",
    "        _scores = np.zeros(num_agents)\n",
    "        steps = 0\n",
    "        for step in range(1, max_steps + 1):\n",
    "            # act\n",
    "            actions = agent.act(states, noise_strength=noise)\n",
    "            env_info = env.step(actions)[brain_name]\n",
    "\n",
    "            # memorize action results\n",
    "            next_states, rewards, dones = (env_info.vector_observations, env_info.rewards, env_info.local_done)\n",
    "            memory.memorize(states, actions, rewards, next_states, dones)\n",
    "\n",
    "            # each N steps, learn from recorded experiences\n",
    "            if step % update_every == 0:\n",
    "                # Train on priority memory every other step\n",
    "                critic.train(agent, memory, iterations=update_cycles)\n",
    "                if memory.priority_memory_filled:\n",
    "                    critic.train(agent, memory, iterations=update_cycles, use_priority_mem=True)\n",
    "\n",
    "            states = next_states\n",
    "            _scores += rewards\n",
    "            steps = step\n",
    "            if np.any(dones):\n",
    "                break\n",
    "\n",
    "        score = np.max(_scores)\n",
    "        min_score = np.min(_scores)\n",
    "        scores_deque.append(score)\n",
    "        scores.append(score)\n",
    "        \n",
    "        # mean over 'avg_window' episodes\n",
    "        avg_score = np.mean(scores_deque)\n",
    "\n",
    "        # if score was better than average, save to priority memory\n",
    "        if (score > avg_score):\n",
    "            memory.mark_as_priority(steps)\n",
    "\n",
    "        # update noise level\n",
    "        noise = max(noise_min, noise * noise_decay)\n",
    "\n",
    "        print('\\rEpisode {}\\tSteps: {:.4f}\\tNoise: {:.4f}\\tLast Score: {:.2f}/{:.2f}\\tAverage Score: {:.2f}\\tMem: {:.2f}\\tPriority mem: {:.2f}'.format(i_episode, steps, noise, score, min_score, avg_score, len(memory.memory), len(memory.prioritized_memory)), end=\"\")\n",
    "        if i_episode % print_every == 0:\n",
    "            print('\\rEpisode {}\\tNoise: {:.4f}\\tLast Score: {:.2f}/{:.2f}\\tAverage Score: {:.2f}\\tMem: {:.2f}\\tPriority mem: {:.2f}'.format(i_episode, noise, score, min_score, avg_score, len(memory.memory), len(memory.prioritized_memory)))\n",
    "        if avg_score >= target_avg_score:\n",
    "            print('\\nEnvironment solved in {:d} episodes!\\tAverage Score: {:.2f}'.format(i_episode, avg_score))\n",
    "            torch.save(agent.actor_local.state_dict(), 'checkpoint_actor.pth')\n",
    "            torch.save(critic.critic_local.state_dict(), 'checkpoint_critic.pth')\n",
    "            break\n",
    "    return scores\n",
    "\n"
   ]
  },
  {
   "cell_type": "markdown",
   "metadata": {},
   "source": [
    "#### Start Training\n",
    "\n",
    "Import classes and run training procedure defined earlier."
   ]
  },
  {
   "cell_type": "code",
   "execution_count": 3,
   "metadata": {},
   "outputs": [
    {
     "name": "stdout",
     "output_type": "stream",
     "text": [
      "Episode 100\tNoise: 0.9900\tLast Score: 0.00/-0.01\tAverage Score: 0.02\tMem: 3594.00\tPriority mem: 575.00ity mem: 575.00\n",
      "Episode 200\tNoise: 0.9802\tLast Score: 0.29/0.20\tAverage Score: 0.08\tMem: 11706.00\tPriority mem: 4044.00ity mem: 4044.00\n",
      "Episode 300\tNoise: 0.9704\tLast Score: 0.10/0.09\tAverage Score: 0.23\tMem: 30000.00\tPriority mem: 11172.00y mem: 11172.000\n",
      "Episode 395\tSteps: 367.0000\tNoise: 0.9613\tLast Score: 1.00/0.89\tAverage Score: 0.50\tMem: 30000.00\tPriority mem: 15000.000\n",
      "Environment solved in 395 episodes!\tAverage Score: 0.50\n"
     ]
    }
   ],
   "source": [
    "# Import agent from 'src' folder.\n",
    "import sys\n",
    "sys.path.insert(0, 'src')\n",
    "from ddpg_agent import Agent, Critic, SharedMemory\n",
    "#from agent import Agent\n",
    "\n",
    "seed = 2\n",
    "agent = Agent(state_size=state_size, action_size=action_size, random_seed=seed)\n",
    "critic = Critic(state_size=state_size, action_size=action_size, random_seed=seed)\n",
    "memory = SharedMemory(state_size=state_size, action_size=action_size, random_seed=seed)\n",
    "\n",
    "scores = train(env, brain_name, agent, critic, memory)"
   ]
  },
  {
   "cell_type": "markdown",
   "metadata": {},
   "source": [
    "#### Plot Scores"
   ]
  },
  {
   "cell_type": "code",
   "execution_count": 4,
   "metadata": {},
   "outputs": [
    {
     "data": {
      "image/png": "[encoded data removed]",
      "text/plain": [
       "<Figure size 432x288 with 1 Axes>"
      ]
     },
     "metadata": {
      "needs_background": "light"
     },
     "output_type": "display_data"
    }
   ],
   "source": [
    "# Calculate average scores over 100 episodes\n",
    "window = 100\n",
    "avg_scores = []\n",
    "for i in range(len(scores) - window):\n",
    "    avg_scores.append(np.mean(scores[i:i + window]))\n",
    "    \n",
    "# Plot the scores and average\n",
    "fig = plt.figure()\n",
    "plt.plot(np.arange(len(scores)), scores)\n",
    "plt.plot(np.arange(window, len(avg_scores) + window), avg_scores)\n",
    "plt.ylabel('Score')\n",
    "plt.xlabel('Episode #')\n",
    "plt.show()"
   ]
  },
  {
   "cell_type": "markdown",
   "metadata": {},
   "source": [
    "When finished, you can close the environment."
   ]
  },
  {
   "cell_type": "code",
   "execution_count": 5,
   "metadata": {},
   "outputs": [],
   "source": [
    "env.close()"
   ]
  }
 ],
 "metadata": {
  "kernelspec": {
   "display_name": "drlnd",
   "language": "python",
   "name": "drlnd"
  },
  "language_info": {
   "codemirror_mode": {
    "name": "ipython",
    "version": 3
   },
   "file_extension": ".py",
   "mimetype": "text/x-python",
   "name": "python",
   "nbconvert_exporter": "python",
   "pygments_lexer": "ipython3",
   "version": "3.6.9"
  }
 },
 "nbformat": 4,
 "nbformat_minor": 2
}
